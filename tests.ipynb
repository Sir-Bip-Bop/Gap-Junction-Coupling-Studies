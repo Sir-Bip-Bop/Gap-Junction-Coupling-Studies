{
 "cells": [
  {
   "cell_type": "code",
   "execution_count": 1,
   "metadata": {},
   "outputs": [],
   "source": [
    "import numpy as np\n",
    "import project"
   ]
  },
  {
   "cell_type": "code",
   "execution_count": 2,
   "metadata": {},
   "outputs": [],
   "source": [
    "t_final = 1000\n",
    "dt = 0.01\n",
    "t = np.linspace(0,t_final,int(t_final/dt))"
   ]
  },
  {
   "cell_type": "code",
   "execution_count": 3,
   "metadata": {},
   "outputs": [],
   "source": [
    "dt =( t[len(t) - 1] - t[0]) / len(t)"
   ]
  },
  {
   "cell_type": "code",
   "execution_count": 4,
   "metadata": {},
   "outputs": [
    {
     "data": {
      "text/plain": [
       "0.01"
      ]
     },
     "execution_count": 4,
     "metadata": {},
     "output_type": "execute_result"
    }
   ],
   "source": [
    "dt"
   ]
  },
  {
   "cell_type": "code",
   "execution_count": 5,
   "metadata": {},
   "outputs": [],
   "source": [
    "matrix,seed = project.utils.create_matrix('barabasi',10)"
   ]
  },
  {
   "cell_type": "code",
   "execution_count": 6,
   "metadata": {},
   "outputs": [
    {
     "data": {
      "text/plain": [
       "matrix([[0., 1., 1., 1., 1., 1., 1., 0., 0., 0.],\n",
       "        [1., 0., 1., 1., 1., 0., 1., 1., 0., 1.],\n",
       "        [1., 1., 0., 1., 1., 1., 0., 1., 1., 0.],\n",
       "        [1., 1., 1., 0., 0., 0., 1., 0., 0., 0.],\n",
       "        [1., 1., 1., 0., 0., 1., 0., 1., 1., 1.],\n",
       "        [1., 0., 1., 0., 1., 0., 0., 0., 0., 0.],\n",
       "        [1., 1., 0., 1., 0., 0., 0., 0., 0., 1.],\n",
       "        [0., 1., 1., 0., 1., 0., 0., 0., 1., 0.],\n",
       "        [0., 0., 1., 0., 1., 0., 0., 1., 0., 0.],\n",
       "        [0., 1., 0., 0., 1., 0., 1., 0., 0., 0.]])"
      ]
     },
     "execution_count": 6,
     "metadata": {},
     "output_type": "execute_result"
    }
   ],
   "source": [
    "matrix.todense()"
   ]
  },
  {
   "cell_type": "code",
   "execution_count": null,
   "metadata": {},
   "outputs": [],
   "source": []
  }
 ],
 "metadata": {
  "kernelspec": {
   "display_name": "Python 3",
   "language": "python",
   "name": "python3"
  },
  "language_info": {
   "codemirror_mode": {
    "name": "ipython",
    "version": 3
   },
   "file_extension": ".py",
   "mimetype": "text/x-python",
   "name": "python",
   "nbconvert_exporter": "python",
   "pygments_lexer": "ipython3",
   "version": "3.10.6"
  },
  "orig_nbformat": 4
 },
 "nbformat": 4,
 "nbformat_minor": 2
}
