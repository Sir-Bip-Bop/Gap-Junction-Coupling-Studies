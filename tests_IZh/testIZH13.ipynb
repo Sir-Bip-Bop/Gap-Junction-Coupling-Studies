{
 "cells": [
  {
   "cell_type": "code",
   "execution_count": 6,
   "metadata": {},
   "outputs": [],
   "source": [
    "import numpy as np \n",
    "import matplotlib.pyplot as plt\n",
    "import scienceplots\n",
    "from models.HH import *\n",
    "from models.LIF import * \n",
    "from models.Ishikevich import *\n",
    "\n",
    "from models.morrislecar import *\n",
    "from utils.load import *\n",
    "import matplotlib.animation as animation"
   ]
  },
  {
   "cell_type": "code",
   "execution_count": 7,
   "metadata": {},
   "outputs": [],
   "source": [
    "plt.style.use('science')\n",
    "plt.rcParams[\"figure.figsize\"] = (12,7)\n"
   ]
  },
  {
   "cell_type": "code",
   "execution_count": 8,
   "metadata": {},
   "outputs": [],
   "source": [
    "def phases(data,dt):\n",
    "    points1 = np.zeros(len(data[:,0]))\n",
    "    points2 = np.zeros(len(data[:,1]))\n",
    "    num_points1 = 0\n",
    "    num_points2 = 0\n",
    "    for i in range(1,len(data)-2):\n",
    "        if  (data[i-1,0] < data[i,0] and data[i,0] > data[i+1,0] ) or (data[i-1,0] > data[i,0] and data[i,0] < data[i+1,0]):\n",
    "            points1[num_points1] = i * dt\n",
    "            num_points1 = num_points1 +1\n",
    "        if  (data[i-1,1] < data[i,1] and data[i,1] > data[i+1,1] ) or (data[i-1,1] > data[i,1] and data[i,1] < data[i+1,1]):\n",
    "            points2[num_points2] = i * dt\n",
    "            num_points2 = num_points2 +1\n",
    "        if points1[num_points1] < points2[num_points2]:\n",
    "            points2[num_points2] = 0\n",
    "            num_points2 = num_points2 -1\n",
    "    time_dif = 0\n",
    "    if len(points1) != len(points2):\n",
    "        print('error')\n",
    "    for i in range(0,num_points1-1):\n",
    "        time_dif = time_dif + (points1[i] - points2[i])\n",
    "    time_dif = time_dif/num_points1\n",
    "    return abs(time_dif),float(points1[i])"
   ]
  },
  {
   "cell_type": "code",
   "execution_count": 9,
   "metadata": {},
   "outputs": [],
   "source": [
    "params_IZH = load_ISH(vt = -40)\n",
    "params_IZH2 = load_ISH()\n",
    "k_izh = 0.04\n",
    "dt = 0.01\n",
    "t_final = 300\n",
    "Isyn = [[0, 0.05], [0.05, 0]]\n",
    "Is = np.array(Isyn)\n",
    "tau = 1\n",
    "order = 2\n",
    "y0 = [-65 , -65]\n",
    "u0 = [0.0,0.0]\n",
    "dt=0.01\n",
    "t_final=100\n"
   ]
  },
  {
   "cell_type": "code",
   "execution_count": 10,
   "metadata": {},
   "outputs": [],
   "source": [
    "\n",
    "t_final = 4000\n",
    "I = np.zeros((int(t_final/dt),2))\n",
    "t = np.linspace(0,t_final,int(t_final/dt))\n",
    "\n",
    "f_log = np.linspace(-3,-1,int(2/0.1))\n",
    "f = 10**f_log\n",
    "mean = np.zeros((len(f),1))\n",
    "phases_test = np.zeros((len(f),1))\n",
    "residue = 0\n",
    "\n",
    "data_IZH_total_1 = np.zeros((len(f),len(t)))\n",
    "data_IZH_total_2 = np.zeros((len(f),len(t)))\n",
    "\n",
    "for i in range(0,len(f)):\n",
    "    I[:,0] = 1.0 + 0.5*np.sin(2 * np.pi * f[i] * t)\n",
    "    #data4b_Ish, complete_Ish_4b = rk_ish(dt,t_final,order,y0,u0,C,I,Is,vr,vt,k_ish,a,b,c,d,k_2,tau,vpeak)\n",
    "    data4b_Ish, complete_Ish_4b = rk_ish(dt,t_final,order,y0,u0,I,Is,*params_IZH,k_izh,tau)\n",
    "    end = len(data4b_Ish)\n",
    "    data_IZH_total_1[i] = data4b_Ish[:,0]\n",
    "    data_IZH_total_2[i] = data4b_Ish[:,1]\n",
    "    if i < 9:\n",
    "        mean[i] = ( np.max(data4b_Ish[10000:end-1,1]) - np.min(data4b_Ish[10000:end-1,1]) ) / ( np.max(data4b_Ish[10000:end-1,0]) - np.min(data4b_Ish[10000:end-1,0]) )\n",
    "        time_diff, residue  = phases(data4b_Ish[10000:end-1],dt)\n",
    "        phases_test[i] = 360 * f[i] * time_diff\n",
    "    else:\n",
    "        mean[i] = ( np.max(data4b_Ish[10000:end-1,1]) - np.min(data4b_Ish[10000:end-1,1]) ) / ( np.max(data4b_Ish[10000:end-1,0]) - np.min(data4b_Ish[10000:end-1,0]) )\n",
    "        time_diff, residue  = phases(data4b_Ish[10000:end-1],dt)\n",
    "        phases_test[i] = 360 * f[i] * time_diff\n",
    "f = 1000*f \n",
    "mean = mean * 100 \n",
    "for i in range(1,len(f)):\n",
    "    mean[i] = mean[i] * 100 / mean[0]\n",
    "    #print(mean[0],mean[i])\n",
    "\n",
    "mean[0] = 100\n",
    "\n",
    "fISH = f\n",
    "meanISH = mean \n",
    "phasesISH= phases_test"
   ]
  },
  {
   "cell_type": "code",
   "execution_count": null,
   "metadata": {},
   "outputs": [],
   "source": [
    "\n",
    "t_final = 4000\n",
    "I = np.zeros((int(t_final/dt),2))\n",
    "t = np.linspace(0,t_final,int(t_final/dt))\n",
    "\n",
    "f_log = np.linspace(-3,-1,int(2/0.1))\n",
    "f = 10**f_log\n",
    "mean = np.zeros((len(f),1))\n",
    "phases_test = np.zeros((len(f),1))\n",
    "residue = 0\n",
    "\n",
    "\n",
    "\n",
    "for i in range(0,len(f)):\n",
    "    I[:,0] = 1.0 + 0.5*np.sin(2 * np.pi * f[i] * t)\n",
    "    #data4b_Ish, complete_Ish_4b = rk_ish(dt,t_final,order,y0,u0,C,I,Is,vr,vt,k_ish,a,b,c,d,k_2,tau,vpeak)\n",
    "    data4b_Ish, complete_Ish_4b = rk_ish(dt,t_final,order,y0,u0,I,Is,*params_IZH2,k_izh,tau)\n",
    "    end = len(data4b_Ish)\n",
    "\n",
    "    if i < 9:\n",
    "        mean[i] = ( np.max(data4b_Ish[10000:end-1,1]) - np.min(data4b_Ish[10000:end-1,1]) ) / ( np.max(data4b_Ish[10000:end-1,0]) - np.min(data4b_Ish[10000:end-1,0]) )\n",
    "        time_diff, residue  = phases(data4b_Ish[10000:end-1],dt)\n",
    "        phases_test[i] = 360 * f[i] * time_diff\n",
    "    else:\n",
    "        mean[i] = ( np.max(data4b_Ish[10000:end-1,1]) - np.min(data4b_Ish[10000:end-1,1]) ) / ( np.max(data4b_Ish[10000:end-1,0]) - np.min(data4b_Ish[10000:end-1,0]) )\n",
    "        time_diff, residue  = phases(data4b_Ish[20000:end-1],dt)\n",
    "        phases_test[i] = 360 * f[i] * time_diff\n",
    "f = 1000*f \n",
    "mean = mean * 100 \n",
    "for i in range(1,len(f)):\n",
    "    mean[i] = mean[i] * 100 / mean[0]\n",
    "    #print(mean[0],mean[i])\n",
    "\n",
    "mean[0] = 100\n",
    "\n",
    "fISH2 = f\n",
    "meanISH2 = mean \n",
    "phasesISH2= phases_test"
   ]
  },
  {
   "cell_type": "code",
   "execution_count": null,
   "metadata": {},
   "outputs": [
    {
     "data": {
      "image/png": "[encoded data removed]",
      "text/plain": [
       "<Figure size 1200x700 with 2 Axes>"
      ]
     },
     "metadata": {},
     "output_type": "display_data"
    }
   ],
   "source": [
    "fig, ax1 = plt.subplots()\n",
    "ax2 = ax1.twinx()\n",
    "\n",
    "ax1.set_title('Efficiency of the electrical synapse - Phase delay')\n",
    "ax1.set_xscale('log')\n",
    "\n",
    "ax1.set_xlabel('Frequency (Hz)')\n",
    "ax1.set_ylabel('Coupling coefficient (\\%)')\n",
    "ax1.set_xlim(1,100)\n",
    "\n",
    "ax2.set_ylabel('Phase delay (deg)')\n",
    "\n",
    "\n",
    "ax2.plot(fISH,phasesISH, 's', color = 'tab:green')\n",
    "\n",
    "ax2.plot(fISH2,phasesISH2, 's', color = 'tab:red')\n",
    "ax1.plot(fISH2, meanISH2,color = 'tab:red', label = 'Izhikevich')\n",
    "ax1.plot(fISH, meanISH,color = 'tab:green', label = 'Izhikevich')\n",
    "\n",
    "\n",
    "ax1.legend(title='Models',ncols=2)\n",
    "ax1.grid()"
   ]
  },
  {
   "cell_type": "code",
   "execution_count": null,
   "metadata": {},
   "outputs": [
    {
     "ename": "NameError",
     "evalue": "name 'fISH' is not defined",
     "output_type": "error",
     "traceback": [
      "\u001b[0;31m---------------------------------------------------------------------------\u001b[0m",
      "\u001b[0;31mNameError\u001b[0m                                 Traceback (most recent call last)",
      "Cell \u001b[0;32mIn[2], line 1\u001b[0m\n\u001b[0;32m----> 1\u001b[0m fISH[\u001b[39m12\u001b[39m]\n",
      "\u001b[0;31mNameError\u001b[0m: name 'fISH' is not defined"
     ]
    }
   ],
   "source": [
    "fISH[12]"
   ]
  },
  {
   "cell_type": "code",
   "execution_count": null,
   "metadata": {},
   "outputs": [
    {
     "ename": "NameError",
     "evalue": "name 'plt' is not defined",
     "output_type": "error",
     "traceback": [
      "\u001b[0;31m---------------------------------------------------------------------------\u001b[0m",
      "\u001b[0;31mNameError\u001b[0m                                 Traceback (most recent call last)",
      "Cell \u001b[0;32mIn[3], line 1\u001b[0m\n\u001b[0;32m----> 1\u001b[0m plt\u001b[39m.\u001b[39mplot(t,data_IZH_total_1[\u001b[39m12\u001b[39m])\n\u001b[1;32m      2\u001b[0m plt\u001b[39m.\u001b[39mplot(t,data_IZH_total_2[\u001b[39m12\u001b[39m])\n\u001b[1;32m      3\u001b[0m plt\u001b[39m.\u001b[39mxlim(\u001b[39m3000\u001b[39m,\u001b[39m3200\u001b[39m)\n",
      "\u001b[0;31mNameError\u001b[0m: name 'plt' is not defined"
     ]
    }
   ],
   "source": [
    "plt.plot(t,data_IZH_total_1[12])\n",
    "plt.plot(t,data_IZH_total_2[12])\n",
    "plt.xlim(3000,3200)"
   ]
  },
  {
   "cell_type": "code",
   "execution_count": null,
   "metadata": {},
   "outputs": [
    {
     "ename": "NameError",
     "evalue": "name 'np' is not defined",
     "output_type": "error",
     "traceback": [
      "\u001b[0;31m---------------------------------------------------------------------------\u001b[0m",
      "\u001b[0;31mNameError\u001b[0m                                 Traceback (most recent call last)",
      "Cell \u001b[0;32mIn[4], line 1\u001b[0m\n\u001b[0;32m----> 1\u001b[0m Isyn \u001b[39m=\u001b[39m np\u001b[39m.\u001b[39mzeros((\u001b[39m2\u001b[39m , \u001b[39m2\u001b[39m ))\n\u001b[1;32m      2\u001b[0m I \u001b[39m=\u001b[39m np\u001b[39m.\u001b[39mzeros((\u001b[39mint\u001b[39m(t_final\u001b[39m/\u001b[39mdt),\u001b[39m2\u001b[39m))\n\u001b[1;32m      3\u001b[0m I[:,\u001b[39m0\u001b[39m] \u001b[39m=\u001b[39m \u001b[39m2.0\u001b[39m\n",
      "\u001b[0;31mNameError\u001b[0m: name 'np' is not defined"
     ]
    }
   ],
   "source": [
    "Isyn = np.zeros((2 , 2 ))\n",
    "I = np.zeros((int(t_final/dt),2))\n",
    "I[:,0] = 2.0\n",
    "data4B_Ish, complete_Ish_4B = rk_ish(dt,t_final,order,y0,u0,I,Is,*params_IZH,k_izh,tau,)\n",
    "data2, complete_2 = rk_ish(dt,t_final,order,y0,u0,I,Is,*params_IZH2,k_izh,tau,)"
   ]
  },
  {
   "cell_type": "code",
   "execution_count": null,
   "metadata": {},
   "outputs": [
    {
     "ename": "NameError",
     "evalue": "name 'np' is not defined",
     "output_type": "error",
     "traceback": [
      "\u001b[0;31m---------------------------------------------------------------------------\u001b[0m",
      "\u001b[0;31mNameError\u001b[0m                                 Traceback (most recent call last)",
      "Cell \u001b[0;32mIn[5], line 1\u001b[0m\n\u001b[0;32m----> 1\u001b[0m time \u001b[39m=\u001b[39m np\u001b[39m.\u001b[39mlinspace(\u001b[39m0\u001b[39m,t_final,\u001b[39mint\u001b[39m(t_final\u001b[39m/\u001b[39mdt))\n\u001b[1;32m      3\u001b[0m fig, (ax1, ax2) \u001b[39m=\u001b[39m plt\u001b[39m.\u001b[39msubplots(\u001b[39m2\u001b[39m,\u001b[39m1\u001b[39m) \n\u001b[1;32m      5\u001b[0m fig\u001b[39m.\u001b[39msubplots_adjust(hspace\u001b[39m=\u001b[39m\u001b[39m0.5\u001b[39m)\n",
      "\u001b[0;31mNameError\u001b[0m: name 'np' is not defined"
     ]
    }
   ],
   "source": [
    "time = np.linspace(0,t_final,int(t_final/dt))\n",
    "\n",
    "fig, (ax1, ax2) = plt.subplots(2,1) \n",
    "\n",
    "fig.subplots_adjust(hspace=0.5)\n",
    "ax1.set_xlabel('time (ms)')\n",
    "ax2.set_xlabel('time (ms)')\n",
    "\n",
    "ax1.set_ylabel('Voltage(mV)')\n",
    "ax2.set_ylabel('Voltage(mV)')\n",
    "\n",
    "ax1.set_xlim(0,100)\n",
    "ax2.set_xlim(0,100)\n",
    "\n",
    "\n",
    "plt.suptitle('Transmission between electrically coupled neurons - Comparison')\n",
    "\n",
    "ax1.title.set_text('Pre-Synaptic')\n",
    "ax1.plot(time,data4B_Ish[:,0], color = 'tab:green', label = 'Ishikevich')\n",
    "ax1.plot(time,data2[:,0], color = 'tab:red', label = 'Ishikevich')\n",
    "\n",
    "\n",
    "ax2.title.set_text('Post-Synaptic')\n",
    "\n",
    "ax2.plot(time,data4B_Ish[:,1], label = 'Ishikevich', color = 'green')\n",
    "ax2.plot(time,data2[:,1], label = 'Ishikevich', color = 'red')\n",
    "#ax2.plot(time,complete_Ish_4B[:,1], label = 'Ishikevich', color = 'red')\n",
    "\n",
    "ax2.legend(title = 'Models',bbox_to_anchor=(0.9, 1.4), ncols = 2)\n",
    "ax1.grid()\n",
    "ax2.grid()\n",
    "\n",
    "plt.show()"
   ]
  },
  {
   "cell_type": "code",
   "execution_count": null,
   "metadata": {},
   "outputs": [],
   "source": []
  },
  {
   "cell_type": "code",
   "execution_count": null,
   "metadata": {},
   "outputs": [],
   "source": []
  }
 ],
 "metadata": {
  "kernelspec": {
   "display_name": "Python 3",
   "language": "python",
   "name": "python3"
  },
  "language_info": {
   "codemirror_mode": {
    "name": "ipython",
    "version": 3
   },
   "file_extension": ".py",
   "mimetype": "text/x-python",
   "name": "python",
   "nbconvert_exporter": "python",
   "pygments_lexer": "ipython3",
   "version": "3.10.6"
  },
  "orig_nbformat": 4
 },
 "nbformat": 4,
 "nbformat_minor": 2
}
